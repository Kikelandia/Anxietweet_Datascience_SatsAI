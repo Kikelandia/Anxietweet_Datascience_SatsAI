{
 "cells": [
  {
   "cell_type": "markdown",
   "metadata": {
    "colab_type": "text",
    "id": "view-in-github"
   },
   "source": [
    "<a href=\"https://colab.research.google.com/github/SaturdaysAI-LATAM/Extraccion/blob/master/RecolectorTweets.ipynb\" target=\"_parent\"><img src=\"https://colab.research.google.com/assets/colab-badge.svg\" alt=\"Open In Colab\"/></a>"
   ]
  },
  {
   "cell_type": "markdown",
   "metadata": {
    "id": "F59hWj0XVLxd"
   },
   "source": [
    "# Recolector de tweets\n",
    "\n",
    "Este notebook sirve para recolectar tweets utilizando el API de Twitter.\n",
    "\n",
    "El propósito es para recolectar datos para el proyecto de Saturdays AI edición LATAM (Equipo Verde).\n"
   ]
  },
  {
   "cell_type": "markdown",
   "metadata": {
    "id": "eHvD4Mif1wHP"
   },
   "source": [
    "## Importar librerias\n",
    "\n",
    "Primero importamos las librerías que vamos a necesitar.\n",
    "\n",
    "- Tweepy: Wrapper para interactuar con la API de Twitter.\n",
    "- Pandas: Para crear DataFrames de los datos.\n",
    "- Tqdm: Es una animación de barra cargando para ver progreso de un loop.\n"
   ]
  },
  {
   "cell_type": "code",
   "execution_count": 1,
   "metadata": {
    "colab": {
     "base_uri": "https://localhost:8080/",
     "height": 187
    },
    "id": "hLQC5G1C1wHQ",
    "outputId": "4c8c36ae-afce-4e2b-9735-83d0ec7ccd8a"
   },
   "outputs": [],
   "source": [
    "#!pip install tweepy"
   ]
  },
  {
   "cell_type": "code",
   "execution_count": 12,
   "metadata": {
    "id": "LmrJ_ej21wHT"
   },
   "outputs": [],
   "source": [
    "import os\n",
    "from datetime import datetime, timedelta\n",
    "import tweepy as tw\n",
    "import pandas as pd\n",
    "from tqdm import tqdm, notebook"
   ]
  },
  {
   "cell_type": "code",
   "execution_count": 2,
   "metadata": {},
   "outputs": [],
   "source": [
    "pd.set_option('display.max_colwidth', None)"
   ]
  },
  {
   "cell_type": "markdown",
   "metadata": {
    "id": "DhD4rlUM1wHX"
   },
   "source": [
    "## API Twitter Autentication\n",
    "\n",
    "In order to search and retrieve tweets from twitter API we need to create an \"OAuthHandler\" object with our personal credentials, such can be obtained from:\n",
    "[https://developer.twitter.com/apps](https://developer.twitter.com/apps)."
   ]
  },
  {
   "cell_type": "code",
   "execution_count": 3,
   "metadata": {
    "id": "dyDwKEfG1wHX"
   },
   "outputs": [],
   "source": [
    "consumer_api_key = \"Twitter Developer Account User Name\"\n",
    "consumer_api_secret = \"Twitter Developer Account Password\""
   ]
  },
  {
   "cell_type": "code",
   "execution_count": 4,
   "metadata": {
    "id": "eNrecq6l1wHb"
   },
   "outputs": [],
   "source": [
    "auth = tw.OAuthHandler(consumer_api_key, consumer_api_secret)"
   ]
  },
  {
   "cell_type": "code",
   "execution_count": 5,
   "metadata": {
    "id": "XWBzCPpM1wHk"
   },
   "outputs": [],
   "source": [
    "#This \"api\" object works to acces securely within the Twitter API\n",
    "api = tw.API(auth, wait_on_rate_limit=True)"
   ]
  },
  {
   "cell_type": "markdown",
   "metadata": {
    "id": "qRgYEo6O1wHm"
   },
   "source": [
    "## Accesing the API\n",
    "\n",
    "### Search definitions\n",
    "\n",
    "\n",
    "Before we start using the api, we should knos what information we are looking for, then we need\n",
    "to create a \"Cursor\" object, its objective is to store all the filters and operators we will use \n",
    "inside twitter API"
   ]
  },
  {
   "cell_type": "markdown",
   "metadata": {
    "id": "bZGPBNx3W6By"
   },
   "source": [
    "To search by cities a dictionary is created, the city name is the ke and the `coordinates` plus the `radius` are the value, and the key:value will be an attribute in the \"Cursor\" object"
   ]
  },
  {
   "cell_type": "code",
   "execution_count": 6,
   "metadata": {
    "id": "LD-BI3X1EnKk"
   },
   "outputs": [],
   "source": [
    "places = {\n",
    "    'New_York': \"40.6643,-73.9385,10mi\",\n",
    "    'San_Francisco' : \"37.781157,-122.398720,10mi\",\n",
    "    'Oklahoma': \"35.4671,-97.5137,10mi\",\n",
    "    'London': \"51.5072,-0.1275,10mi\",\n",
    "    'Vancouver': \"49.3023,-123.107,10mi\",\n",
    "    'Houston': \"29.7805,-95.3863,10mi\",\n",
    "    'Los_Angeles': \"34.0194,-118.411,10mi\",\n",
    "    'Sidney': \"-33.86785,151.20732,10mi\",\n",
    "    'Wellington': \"-41.28664,174.77557,10mi\",\n",
    "    'Dublin':\"53.333060,-6.248890,10mi\"\n",
    "}\n",
    "city = \"San_Francisco\""
   ]
  },
  {
   "cell_type": "markdown",
   "metadata": {
    "id": "QseXcvoQXKIA"
   },
   "source": [
    "The search is performed with the following filters:\n",
    "\n",
    "- Retweets excluded\n",
    "- It should include any variation of the word \"Covid\"\n",
    "- Date since could be any date from the beginnig of the pandemic\n",
    "- Published within a 10mi range from the city\n",
    "- Only in English\n",
    "- Amount of tweets to collect(by default twitter limits this to 7500)\n",
    "\n",
    "**NOTE:** The time to retrieve the data is directly proportional to the number of filters(parameters) used"
   ]
  },
  {
   "cell_type": "code",
   "execution_count": 17,
   "metadata": {
    "id": "Lx-YQtMN1wHn"
   },
   "outputs": [],
   "source": [
    "search_words = (\"lang:en -filter:retweets covid OR COVID OR coronavirus OR #coronavirus OR #covid19 OR covid19 OR #covid-19 OR cov2 OR #COVID OR #covid\")\n",
    "tenDaysAgo = datetime.today() - timedelta(days = 10)\n",
    "date_since = str(tenDaysAgo)[:10]\n",
    "place = places[city]\n",
    "total_items = 10\n",
    "\n",
    "\n",
    "# Cursor to retrieve tweets, tweet_mode='extended' recomended in order to prevent text truncated by API\n",
    "tweets = tw.Cursor(api.search,\n",
    "              q=search_words,\n",
    "              geocode=place,\n",
    "              lang=\"en\",\n",
    "              tweet_mode='extended',\n",
    "              since=date_since).items(total_items)"
   ]
  },
  {
   "cell_type": "markdown",
   "metadata": {
    "id": "5OaVYyZE1wHr"
   },
   "source": [
    "## Store tweets in memory"
   ]
  },
  {
   "cell_type": "code",
   "execution_count": 15,
   "metadata": {
    "colab": {
     "base_uri": "https://localhost:8080/",
     "height": 34
    },
    "id": "_Jp-L--b1wHt",
    "outputId": "78e047bc-6435-4d62-baff-0c8b15bf1295",
    "scrolled": false
   },
   "outputs": [
    {
     "name": "stderr",
     "output_type": "stream",
     "text": [
      "0it [00:00, ?it/s]\n"
     ]
    }
   ],
   "source": [
    "tweets_copy = []\n",
    "for tweet in tqdm(tweets):\n",
    "     tweets_copy.append(tweet)"
   ]
  },
  {
   "cell_type": "markdown",
   "metadata": {
    "id": "_5meuAAa1wH1"
   },
   "source": [
    "## Dataset construction\n",
    "\n",
    "Storing only the relevant data for our modeling objective"
   ]
  },
  {
   "cell_type": "code",
   "execution_count": 10,
   "metadata": {
    "colab": {
     "base_uri": "https://localhost:8080/",
     "height": 34
    },
    "id": "hrtPNL921wH2",
    "outputId": "65356f59-60c3-4922-fd1f-61397fbc976e",
    "scrolled": false
   },
   "outputs": [
    {
     "name": "stderr",
     "output_type": "stream",
     "text": [
      "100%|██████████| 6500/6500 [00:39<00:00, 164.33it/s]\n"
     ]
    }
   ],
   "source": [
    "tweets_df = pd.DataFrame()\n",
    "for tweet in tqdm(tweets_copy):\n",
    "    tweets_df = tweets_df.append(pd.DataFrame({'user_name': tweet.user.name,\n",
    "                                               'user_location': tweet.user.location,\n",
    "                                               'user_verified': tweet.user.verified,\n",
    "                                               'date': tweet.created_at,\n",
    "                                               'text': tweet.full_text,\n",
    "                                               'is_retweet': tweet.retweeted}, index=[0]))"
   ]
  },
  {
   "cell_type": "code",
   "execution_count": 11,
   "metadata": {
    "id": "y-h5BSCj1wH5"
   },
   "outputs": [],
   "source": [
    "tweets_df=tweets_df.reset_index(drop=True)"
   ]
  },
  {
   "cell_type": "code",
   "execution_count": 12,
   "metadata": {
    "colab": {
     "base_uri": "https://localhost:8080/",
     "height": 394
    },
    "id": "B13qSZzRZ3LA",
    "outputId": "b93a8225-3695-4c65-a220-e08b78d4fdb4"
   },
   "outputs": [
    {
     "data": {
      "text/html": [
       "<div>\n",
       "<style scoped>\n",
       "    .dataframe tbody tr th:only-of-type {\n",
       "        vertical-align: middle;\n",
       "    }\n",
       "\n",
       "    .dataframe tbody tr th {\n",
       "        vertical-align: top;\n",
       "    }\n",
       "\n",
       "    .dataframe thead th {\n",
       "        text-align: right;\n",
       "    }\n",
       "</style>\n",
       "<table border=\"1\" class=\"dataframe\">\n",
       "  <thead>\n",
       "    <tr style=\"text-align: right;\">\n",
       "      <th></th>\n",
       "      <th>user_name</th>\n",
       "      <th>user_location</th>\n",
       "      <th>user_verified</th>\n",
       "      <th>date</th>\n",
       "      <th>text</th>\n",
       "      <th>is_retweet</th>\n",
       "    </tr>\n",
       "  </thead>\n",
       "  <tbody>\n",
       "    <tr>\n",
       "      <th>0</th>\n",
       "      <td>San Francisco Chronicle</td>\n",
       "      <td>San Francisco, CA</td>\n",
       "      <td>True</td>\n",
       "      <td>2020-12-23 14:48:48</td>\n",
       "      <td>Dr. Deborah Birx, the White House’s coronavirus response coordinator, told the media outlet Newsy that she will retire after President-elect Joe Biden and his administration take office. https://t.co/UOfqrgv07D</td>\n",
       "      <td>False</td>\n",
       "    </tr>\n",
       "    <tr>\n",
       "      <th>1</th>\n",
       "      <td>Dan Earhart</td>\n",
       "      <td>San Francisco</td>\n",
       "      <td>False</td>\n",
       "      <td>2020-12-23 14:47:15</td>\n",
       "      <td>Chief nursing officer at California hospital: 'It's a disaster right now for our staff'\\nhttps://t.co/WRz4AnbtzG</td>\n",
       "      <td>False</td>\n",
       "    </tr>\n",
       "    <tr>\n",
       "      <th>2</th>\n",
       "      <td>Henry Harteveldt</td>\n",
       "      <td>San Francisco</td>\n",
       "      <td>False</td>\n",
       "      <td>2020-12-23 14:46:52</td>\n",
       "      <td>Very cool to see @emilyKPIX report this AM on Bay Area #startup @xwinginc using its autonomous-piloted #aircraft to help deliver Covid vaccine to the Navajo Nation. #aviation #innovation</td>\n",
       "      <td>False</td>\n",
       "    </tr>\n",
       "    <tr>\n",
       "      <th>3</th>\n",
       "      <td>Matt Greenberg</td>\n",
       "      <td>Oakland, CA</td>\n",
       "      <td>False</td>\n",
       "      <td>2020-12-23 14:45:27</td>\n",
       "      <td>For most of covid my wife has done nighttime baby duties and I woke up with the first kid. I always have her coffee ready when she gets out of bed. We recently switched jobs and I’ll say, gifted coffee when you wake up tastes way better ☕️😴</td>\n",
       "      <td>False</td>\n",
       "    </tr>\n",
       "    <tr>\n",
       "      <th>4</th>\n",
       "      <td>Jed Kolko</td>\n",
       "      <td>San Francisco, CA</td>\n",
       "      <td>True</td>\n",
       "      <td>2020-12-23 14:44:37</td>\n",
       "      <td>Huge Q post-covid (in 2021 ojala!) is whether this shift from services to goods persists, reverts, or overshoots. \\n\\nHave we permanently in-sourced more meals, exercise, and entertainment? \\n\\nOr will pent-up demand for going out and travel be unleashed? \\n\\nhttps://t.co/jviJXyX6qz https://t.co/5IbIMI3NLh</td>\n",
       "      <td>False</td>\n",
       "    </tr>\n",
       "  </tbody>\n",
       "</table>\n",
       "</div>"
      ],
      "text/plain": [
       "                 user_name      user_location  user_verified  \\\n",
       "0  San Francisco Chronicle  San Francisco, CA           True   \n",
       "1              Dan Earhart      San Francisco          False   \n",
       "2         Henry Harteveldt      San Francisco          False   \n",
       "3           Matt Greenberg        Oakland, CA          False   \n",
       "4                Jed Kolko  San Francisco, CA           True   \n",
       "\n",
       "                 date  \\\n",
       "0 2020-12-23 14:48:48   \n",
       "1 2020-12-23 14:47:15   \n",
       "2 2020-12-23 14:46:52   \n",
       "3 2020-12-23 14:45:27   \n",
       "4 2020-12-23 14:44:37   \n",
       "\n",
       "                                                                                                                                                                                                                                                                                                                  text  \\\n",
       "0                                                                                                   Dr. Deborah Birx, the White House’s coronavirus response coordinator, told the media outlet Newsy that she will retire after President-elect Joe Biden and his administration take office. https://t.co/UOfqrgv07D   \n",
       "1                                                                                                                                                                                                     Chief nursing officer at California hospital: 'It's a disaster right now for our staff'\\nhttps://t.co/WRz4AnbtzG   \n",
       "2                                                                                                                           Very cool to see @emilyKPIX report this AM on Bay Area #startup @xwinginc using its autonomous-piloted #aircraft to help deliver Covid vaccine to the Navajo Nation. #aviation #innovation   \n",
       "3                                                                     For most of covid my wife has done nighttime baby duties and I woke up with the first kid. I always have her coffee ready when she gets out of bed. We recently switched jobs and I’ll say, gifted coffee when you wake up tastes way better ☕️😴   \n",
       "4  Huge Q post-covid (in 2021 ojala!) is whether this shift from services to goods persists, reverts, or overshoots. \\n\\nHave we permanently in-sourced more meals, exercise, and entertainment? \\n\\nOr will pent-up demand for going out and travel be unleashed? \\n\\nhttps://t.co/jviJXyX6qz https://t.co/5IbIMI3NLh   \n",
       "\n",
       "   is_retweet  \n",
       "0       False  \n",
       "1       False  \n",
       "2       False  \n",
       "3       False  \n",
       "4       False  "
      ]
     },
     "execution_count": 12,
     "metadata": {},
     "output_type": "execute_result"
    }
   ],
   "source": [
    "tweets_df.head()"
   ]
  },
  {
   "cell_type": "markdown",
   "metadata": {
    "id": "qG5882Up1wIL"
   },
   "source": [
    "###  CSV Creation\n",
    "\n",
    "Once we have all the information we store in disk all the information from the correspondent city"
   ]
  },
  {
   "cell_type": "code",
   "execution_count": 13,
   "metadata": {
    "id": "TQzx3kw31wIL"
   },
   "outputs": [],
   "source": [
    "today = date.today()\n",
    "tweets_df.to_csv(\"Datos1_Kike/covid19_tweets_\"+city+\".csv\", index=False)"
   ]
  },
  {
   "cell_type": "code",
   "execution_count": null,
   "metadata": {},
   "outputs": [],
   "source": []
  }
 ],
 "metadata": {
  "colab": {
   "include_colab_link": true,
   "name": "Copia de covid-19-tweets.ipynb",
   "provenance": [],
   "toc_visible": true
  },
  "kernelspec": {
   "display_name": "Python 3",
   "language": "python",
   "name": "python3"
  },
  "language_info": {
   "codemirror_mode": {
    "name": "ipython",
    "version": 3
   },
   "file_extension": ".py",
   "mimetype": "text/x-python",
   "name": "python",
   "nbconvert_exporter": "python",
   "pygments_lexer": "ipython3",
   "version": "3.6.10"
  }
 },
 "nbformat": 4,
 "nbformat_minor": 1
}
